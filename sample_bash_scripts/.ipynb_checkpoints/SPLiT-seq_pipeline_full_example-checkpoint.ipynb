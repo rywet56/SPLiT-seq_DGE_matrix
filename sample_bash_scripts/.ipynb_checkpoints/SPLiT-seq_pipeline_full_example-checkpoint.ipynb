{
 "cells": [
  {
   "cell_type": "markdown",
   "metadata": {},
   "source": [
    "## setup working directory"
   ]
  },
  {
   "cell_type": "code",
   "execution_count": null,
   "metadata": {},
   "outputs": [],
   "source": [
    "%%bash\n",
    "mkdir sample_data\n",
    "cd sample_data\n",
    "mkdir reads\n",
    "mkdir barcodes\n",
    "mkdir filtered_reads\n",
    "cd barcodes\n",
    "mkdir barcodes_cleaned\n",
    "mkdir barcode_combinations"
   ]
  },
  {
   "cell_type": "markdown",
   "metadata": {},
   "source": [
    "## create cleaned files of all barcoding rounds"
   ]
  },
  {
   "cell_type": "code",
   "execution_count": 1,
   "metadata": {},
   "outputs": [],
   "source": [
    "%%bash\n",
    "scripts=\"/Users/manuel/OneDrive/SPLiT-seq/SPLiT-seq_suite/DGE_matrix_generation/SPLiT-seq_DGE_matrix\"\n",
    "home_folder=\"/Users/manuel/OneDrive/SPLiT-seq/SPLiT-seq_suite/DGE_matrix_generation/sample_data\"\n",
    "\n",
    "out=$home_folder/barcodes/barcodes_cleaned\n",
    "\n",
    "\n",
    "# create r1barcodes file\n",
    "in1=$home_folder/barcodes/barcodes_ordering_list/R1_barcodes.txt\n",
    "name1=\"r1barcodes\"\n",
    "\n",
    "python3 $scripts/barcodes_to_txt.py \\\n",
    "    --in_dir $in1 \\\n",
    "    --out_dir $out \\\n",
    "    --file_name $name1\n",
    "\n",
    "# create r2barcodes file\n",
    "in2=$home_folder/barcodes/barcodes_ordering_list/R2_barcodes.txt\n",
    "name2=\"r2barcodes\"\n",
    "\n",
    "python3 $scripts/barcodes_to_txt.py \\\n",
    "    --in_dir $in2 \\\n",
    "    --out_dir $out \\\n",
    "    --file_name $name2\n",
    "    \n",
    "# create r3barcodes file\n",
    "in3=$home_folder/barcodes/barcodes_ordering_list/R3_barcodes.txt\n",
    "name3=\"r3barcodes\"\n",
    "\n",
    "python3 $scripts/barcodes_to_txt.py \\\n",
    "    --in_dir $in3 \\\n",
    "    --out_dir $out \\\n",
    "    --file_name $name3"
   ]
  },
  {
   "cell_type": "markdown",
   "metadata": {},
   "source": [
    "## create file containing all possible combinations of barcodes"
   ]
  },
  {
   "cell_type": "code",
   "execution_count": 2,
   "metadata": {},
   "outputs": [],
   "source": [
    "%%bash\n",
    "scripts=\"/Users/manuel/OneDrive/SPLiT-seq/SPLiT-seq_suite/DGE_matrix_generation/SPLiT-seq_DGE_matrix\"\n",
    "home_folder=\"/Users/manuel/OneDrive/SPLiT-seq/SPLiT-seq_suite/DGE_matrix_generation/sample_data\"\n",
    "\n",
    "in=$home_folder/barcodes/barcodes_cleaned\n",
    "out=$home_folder/barcodes/barcode_combinations\n",
    "\n",
    "\n",
    "# make all possible combinations of barcodes based on the three input files containing\n",
    "# R1, R2 and R3 barcodes\n",
    "bc1=$in/r1barcodes.txt\n",
    "bc2=$in/r2barcodes.txt\n",
    "bc3=$in/r3barcodes.txt\n",
    "\n",
    "python3 $scripts/create_bc_comb.py \\\n",
    "    --bc1 $bc1 \\\n",
    "    --bc2 $bc2 \\\n",
    "    --bc3 $bc3 \\\n",
    "    --out_dir $out"
   ]
  },
  {
   "cell_type": "markdown",
   "metadata": {},
   "source": [
    "## filter raw reads"
   ]
  },
  {
   "cell_type": "code",
   "execution_count": 3,
   "metadata": {},
   "outputs": [
    {
     "name": "stdout",
     "output_type": "stream",
     "text": [
      "reads have been aligned in mode: simple\n",
      "filtered reads have sucessfully been written to files\n",
      "The memory usage was: 0.064516096 GB\n"
     ]
    }
   ],
   "source": [
    "%%bash\n",
    "scripts=\"/Users/manuel/OneDrive/SPLiT-seq/SPLiT-seq_suite/DGE_matrix_generation/SPLiT-seq_DGE_matrix\"\n",
    "home_folder=\"/Users/manuel/OneDrive/SPLiT-seq/SPLiT-seq_suite/DGE_matrix_generation/sample_data\"\n",
    "\n",
    "\n",
    "# filter raw reads\n",
    "bc_ref=$home_folder/barcodes/barcode_combinations/barcode_combinations.txt\n",
    "bc_reads=$home_folder/raw_reads/bc_1000.fastq\n",
    "gen_reads=$home_folder/raw_reads/gen_1000.fastq\n",
    "out_dir=$home_folder/filtered_reads\n",
    "\n",
    "python3 $scripts/filter_barcodes_advanced.py \\\n",
    "    --bc_reference $bc_ref \\\n",
    "    --bc_reads $bc_reads \\\n",
    "    --gen_reads $gen_reads \\\n",
    "    --out_dir $out_dir \\\n",
    "    --mode \"simple\""
   ]
  },
  {
   "cell_type": "markdown",
   "metadata": {},
   "source": [
    "## create reference genome bowtie index"
   ]
  },
  {
   "cell_type": "code",
   "execution_count": null,
   "metadata": {},
   "outputs": [],
   "source": [
    "%%bash\n",
    "home_folder=\"/Users/manuel/OneDrive/SPLiT-seq/SPLiT-seq_suite/DGE_matrix_generation/SPLiT-seq_DGE_matrix\"\n",
    "\n",
    "\n",
    "genome=$home_folder/sample_bash_scripts/sample_data/mm10_genome/genome/mm10.fasta.zip\n",
    "out=$home_folder/sample_bash_scripts/sample_data/mm10_genome/genome_index/mm10  # mm10 is a prefix for outout files\n",
    "\n",
    "bowtie2-build \\\n",
    "     --threads 4 \\\n",
    "     $genome \\\n",
    "     $out"
   ]
  },
  {
   "cell_type": "markdown",
   "metadata": {},
   "source": [
    "## align filtered genomic reads to reference genome"
   ]
  },
  {
   "cell_type": "code",
   "execution_count": 4,
   "metadata": {
    "collapsed": true
   },
   "outputs": [
    {
     "name": "stderr",
     "output_type": "stream",
     "text": [
      "361 reads; of these:\n",
      "  361 (100.00%) were unpaired; of these:\n",
      "    97 (26.87%) aligned 0 times\n",
      "    229 (63.43%) aligned exactly 1 time\n",
      "    35 (9.70%) aligned >1 times\n",
      "73.13% overall alignment rate\n"
     ]
    }
   ],
   "source": [
    "%%bash\n",
    "home_folder=\"/Users/manuel/OneDrive/SPLiT-seq/SPLiT-seq_suite/DGE_matrix_generation/sample_data\"\n",
    "\n",
    "\n",
    "bowtie2_index=$home_folder/mm10_genome/genome_index/mus_musculus\n",
    "genomic_reads=$home_folder/filtered_reads/filtered_genomic_reads.fastq\n",
    "output=$home_folder/aligned_filtered_reads/bowtie_aligned_reads.sam\n",
    "\n",
    "bowtie2 \\\n",
    "     -p 4 \\\n",
    "     -x $bowtie2_index \\\n",
    "     -U $genomic_reads \\\n",
    "     -S $output"
   ]
  },
  {
   "cell_type": "markdown",
   "metadata": {},
   "source": [
    "## add BC and UMI tag to aligned_filtered_genomic_read.sam"
   ]
  },
  {
   "cell_type": "code",
   "execution_count": 5,
   "metadata": {},
   "outputs": [
    {
     "name": "stdout",
     "output_type": "stream",
     "text": [
      "361\n"
     ]
    }
   ],
   "source": [
    "%%bash\n",
    "scripts=\"/Users/manuel/OneDrive/SPLiT-seq/SPLiT-seq_suite/DGE_matrix_generation/SPLiT-seq_DGE_matrix\"\n",
    "home_folder=\"/Users/manuel/OneDrive/SPLiT-seq/SPLiT-seq_suite/DGE_matrix_generation/sample_data\"\n",
    "\n",
    "\n",
    "path_to_bc=$home_folder/filtered_reads/filtered_bc_reads.txt\n",
    "path_to_umi=$home_folder/filtered_reads/filtered_UMIs.txt\n",
    "sam_in_path=$home_folder/aligned_filtered_reads/bowtie_aligned_reads.sam\n",
    "sam_out_path=$home_folder/tagged_aligned_filtered_reads\n",
    "file_name=\"out_bc_umi.sam\"\n",
    "\n",
    "python3 $scripts/add_BC_UMI_tags.py \\\n",
    "     --bc_in $path_to_bc \\\n",
    "     --umi_in $path_to_umi \\\n",
    "     --sam_in $sam_in_path \\\n",
    "     --sam_out $sam_out_path \\\n",
    "     --file_name $file_name"
   ]
  },
  {
   "cell_type": "markdown",
   "metadata": {},
   "source": [
    "## add gene function tags to tagged_aligned_filtered_genomic_read.sam"
   ]
  },
  {
   "cell_type": "code",
   "execution_count": 6,
   "metadata": {
    "collapsed": true
   },
   "outputs": [
    {
     "name": "stderr",
     "output_type": "stream",
     "text": [
      "INFO\t2019-11-05 19:18:59\tTagReadWithGeneFunction\t\n",
      "\n",
      "********** NOTE: Picard's command line syntax is changing.\n",
      "**********\n",
      "********** For more information, please see:\n",
      "********** https://github.com/broadinstitute/picard/wiki/Command-Line-Syntax-Transition-For-Users-(Pre-Transition)\n",
      "**********\n",
      "********** The command line looks like this in the new syntax:\n",
      "**********\n",
      "**********    TagReadWithGeneFunction -I /Users/manuel/OneDrive/SPLiT-seq/SPLiT-seq_suite/DGE_matrix_generation/sample_data/tagged_aligned_filtered_reads/out_bc_umi.sam -O /Users/manuel/OneDrive/SPLiT-seq/SPLiT-seq_suite/DGE_matrix_generation/sample_data/genfun_tagged_aligned_filtered_reads/genfun_tagged.sam -ANNOTATIONS_FILE /Users/manuel/OneDrive/SPLiT-seq/SPLiT-seq_suite/DGE_matrix_generation/sample_data/mm10_genome/genome_annotation/mm10.refFlat\n",
      "**********\n",
      "\n",
      "\n",
      "19:19:00.549 INFO  NativeLibraryLoader - Loading libgkl_compression.dylib from jar:file:/Users/manuel/OneDrive/SPLiT-seq/SPLiT-seq_suite/DGE_matrix_generation/SPLiT-seq_DGE_matrix/sample_bash_scripts/drop_seq_tools/jar/lib/picard-2.18.14.jar!/com/intel/gkl/native/libgkl_compression.dylib\n",
      "[Tue Nov 05 19:19:00 CET 2019] TagReadWithGeneFunction INPUT=/Users/manuel/OneDrive/SPLiT-seq/SPLiT-seq_suite/DGE_matrix_generation/sample_data/tagged_aligned_filtered_reads/out_bc_umi.sam OUTPUT=/Users/manuel/OneDrive/SPLiT-seq/SPLiT-seq_suite/DGE_matrix_generation/sample_data/genfun_tagged_aligned_filtered_reads/genfun_tagged.sam ANNOTATIONS_FILE=/Users/manuel/OneDrive/SPLiT-seq/SPLiT-seq_suite/DGE_matrix_generation/sample_data/mm10_genome/genome_annotation/mm10.refFlat    GENE_NAME_TAG=gn GENE_STRAND_TAG=gs GENE_FUNCTION_TAG=gf READ_FUNCTION_TAG=XF USE_STRAND_INFO=true VERBOSITY=INFO QUIET=false VALIDATION_STRINGENCY=STRICT COMPRESSION_LEVEL=5 MAX_RECORDS_IN_RAM=500000 CREATE_INDEX=false CREATE_MD5_FILE=false GA4GH_CLIENT_SECRETS=client_secrets.json USE_JDK_DEFLATER=false USE_JDK_INFLATER=false\n",
      "[Tue Nov 05 19:19:00 CET 2019] Executing as manuel@Manuels-MBP.fritz.box on Mac OS X 10.15.1 x86_64; Java HotSpot(TM) 64-Bit Server VM 10.0.2+13; Deflater: Intel; Inflater: Intel; Provider GCS is not available; Picard version: 2.3.0(34e6572_1555443285)\n",
      "[Tue Nov 05 19:19:01 CET 2019] org.broadinstitute.dropseqrna.metrics.TagReadWithGeneFunction done. Elapsed time: 0.01 minutes.\n",
      "Runtime.totalMemory()=324534272\n"
     ]
    }
   ],
   "source": [
    "%%bash\n",
    "home_folder=\"/Users/manuel/OneDrive/SPLiT-seq/SPLiT-seq_suite/DGE_matrix_generation/sample_data\"\n",
    "dropseq_tools=\"/Users/manuel/OneDrive/SPLiT-seq/SPLiT-seq_suite/DGE_matrix_generation/SPLiT-seq_DGE_matrix/sample_bash_scripts/drop_seq_tools\"\n",
    "\n",
    "\n",
    "tagged_aligned=$home_folder/tagged_aligned_filtered_reads/out_bc_umi.sam\n",
    "out=$home_folder/genfun_tagged_aligned_filtered_reads/genfun_tagged.sam\n",
    "annotated_genome=$home_folder/mm10_genome/genome_annotation/mm10.refFlat\n",
    "\n",
    "$dropseq_tools/TagReadWithGeneFunction \\\n",
    "     I=$tagged_aligned \\\n",
    "     O=$out \\\n",
    "     ANNOTATIONS_FILE=$annotated_genome"
   ]
  },
  {
   "cell_type": "markdown",
   "metadata": {},
   "source": [
    "## calculate DGE matrix"
   ]
  },
  {
   "cell_type": "code",
   "execution_count": 7,
   "metadata": {
    "collapsed": true
   },
   "outputs": [
    {
     "name": "stderr",
     "output_type": "stream",
     "text": [
      "INFO\t2019-11-05 19:20:12\tDigitalExpression\t\n",
      "\n",
      "********** NOTE: Picard's command line syntax is changing.\n",
      "**********\n",
      "********** For more information, please see:\n",
      "********** https://github.com/broadinstitute/picard/wiki/Command-Line-Syntax-Transition-For-Users-(Pre-Transition)\n",
      "**********\n",
      "********** The command line looks like this in the new syntax:\n",
      "**********\n",
      "**********    DigitalExpression -I /Users/manuel/OneDrive/SPLiT-seq/SPLiT-seq_suite/DGE_matrix_generation/sample_data/genfun_tagged_aligned_filtered_reads/genfun_tagged.sam -O /Users/manuel/OneDrive/SPLiT-seq/SPLiT-seq_suite/DGE_matrix_generation/sample_data/DGE_matrix/sample_dge_matrix.dge -SUMMARY /Users/manuel/OneDrive/SPLiT-seq/SPLiT-seq_suite/DGE_matrix_generation/sample_data/DGE_matrix/sample_dge_matrix_summary.txt -NUM_CORE_BARCODES 100\n",
      "**********\n",
      "\n",
      "\n",
      "19:20:13.361 INFO  NativeLibraryLoader - Loading libgkl_compression.dylib from jar:file:/Users/manuel/OneDrive/SPLiT-seq/SPLiT-seq_suite/DGE_matrix_generation/SPLiT-seq_DGE_matrix/sample_bash_scripts/drop_seq_tools/jar/lib/picard-2.18.14.jar!/com/intel/gkl/native/libgkl_compression.dylib\n",
      "[Tue Nov 05 19:20:13 CET 2019] DigitalExpression SUMMARY=/Users/manuel/OneDrive/SPLiT-seq/SPLiT-seq_suite/DGE_matrix_generation/sample_data/DGE_matrix/sample_dge_matrix_summary.txt OUTPUT=/Users/manuel/OneDrive/SPLiT-seq/SPLiT-seq_suite/DGE_matrix_generation/sample_data/DGE_matrix/sample_dge_matrix.dge INPUT=/Users/manuel/OneDrive/SPLiT-seq/SPLiT-seq_suite/DGE_matrix_generation/sample_data/genfun_tagged_aligned_filtered_reads/genfun_tagged.sam NUM_CORE_BARCODES=100    OUTPUT_READS_INSTEAD=false CELL_BARCODE_TAG=XC MOLECULAR_BARCODE_TAG=XM EDIT_DISTANCE=1 READ_MQ=10 MIN_BC_READ_THRESHOLD=0 USE_STRAND_INFO=true RARE_UMI_FILTER_THRESHOLD=0.0 GENE_NAME_TAG=gn GENE_STRAND_TAG=gs GENE_FUNCTION_TAG=gf STRAND_STRATEGY=SENSE LOCUS_FUNCTION_LIST=[CODING, UTR] VERBOSITY=INFO QUIET=false VALIDATION_STRINGENCY=STRICT COMPRESSION_LEVEL=5 MAX_RECORDS_IN_RAM=500000 CREATE_INDEX=false CREATE_MD5_FILE=false GA4GH_CLIENT_SECRETS=client_secrets.json USE_JDK_DEFLATER=false USE_JDK_INFLATER=false\n",
      "[Tue Nov 05 19:20:13 CET 2019] Executing as manuel@Manuels-MBP.fritz.box on Mac OS X 10.15.1 x86_64; Java HotSpot(TM) 64-Bit Server VM 10.0.2+13; Deflater: Intel; Inflater: Intel; Provider GCS is not available; Picard version: 2.3.0(34e6572_1555443285)\n",
      "INFO\t2019-11-05 19:20:13\tBarcodeListRetrieval\tLooking for the top 100 cell barcodes\n",
      "INFO\t2019-11-05 19:20:13\tBarcodeListRetrieval\tSelected 100 core barcodes\n",
      "INFO\t2019-11-05 19:20:13\tDigitalExpression\tCalculating digital expression for [100] cells.\n",
      "INFO\t2019-11-05 19:20:13\tUMIIterator\tSorting finished.\n",
      "[Tue Nov 05 19:20:13 CET 2019] org.broadinstitute.dropseqrna.barnyard.DigitalExpression done. Elapsed time: 0.00 minutes.\n",
      "Runtime.totalMemory()=257425408\n"
     ]
    }
   ],
   "source": [
    "%%bash\n",
    "home_folder=\"/Users/manuel/OneDrive/SPLiT-seq/SPLiT-seq_suite/DGE_matrix_generation/sample_data\"\n",
    "dropseq_tools=\"/Users/manuel/OneDrive/SPLiT-seq/SPLiT-seq_suite/DGE_matrix_generation/SPLiT-seq_DGE_matrix/sample_bash_scripts/drop_seq_tools\"\n",
    "\n",
    "genfun_tagged=$home_folder/genfun_tagged_aligned_filtered_reads/genfun_tagged.sam\n",
    "out=$home_folder/DGE_matrix/sample_dge_matrix.dge\n",
    "summary=$home_folder/DGE_matrix/sample_dge_matrix_summary.txt\n",
    "\n",
    "$dropseq_tools/DigitalExpression \\\n",
    "     I=$genfun_tagged \\\n",
    "     O=$out \\\n",
    "     SUMMARY=$summary \\\n",
    "     NUM_CORE_BARCODES=100"
   ]
  }
 ],
 "metadata": {
  "kernelspec": {
   "display_name": "mykernel",
   "language": "python",
   "name": "mykernel"
  },
  "language_info": {
   "codemirror_mode": {
    "name": "ipython",
    "version": 3
   },
   "file_extension": ".py",
   "mimetype": "text/x-python",
   "name": "python",
   "nbconvert_exporter": "python",
   "pygments_lexer": "ipython3",
   "version": "3.7.5"
  }
 },
 "nbformat": 4,
 "nbformat_minor": 2
}
