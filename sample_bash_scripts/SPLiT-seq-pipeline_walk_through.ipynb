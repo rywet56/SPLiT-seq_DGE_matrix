{
 "cells": [
  {
   "cell_type": "markdown",
   "metadata": {},
   "source": [
    "## Extract CBC's and UMI's"
   ]
  },
  {
   "cell_type": "code",
   "execution_count": 1,
   "metadata": {},
   "outputs": [],
   "source": [
    "%%bash\n",
    "#!/usr/bin/env bash\n",
    "\n",
    "scripts=\"/Users/manuel/OneDrive/SPLiT-seq/SPLiT-seq_suite/DGE_matrix_generation/SPLiT-seq_DGE_matrix\"\n",
    "\n",
    "bc_reads=\"/Users/manuel/Desktop/bowtie_strategy/SRR6750059_2_1mio.fastq\"\n",
    "output=\"/Users/manuel/Desktop/bowtie_strategy\"\n",
    "umi_out_name=\"extracted_umis\"\n",
    "cbc_out_name=\"extracted_cbcs\"\n",
    "\n",
    "python3 $scripts/extract_cbc_umi.py \\\n",
    "    --bc_reads $bc_reads \\\n",
    "    --out_dir $output \\\n",
    "    --cbc_out_name $cbc_out_name \\\n",
    "    --umi_out_name $umi_out_name"
   ]
  },
  {
   "cell_type": "markdown",
   "metadata": {},
   "source": [
    "## Create bowtie_index of bc_combinations"
   ]
  },
  {
   "cell_type": "code",
   "execution_count": null,
   "metadata": {},
   "outputs": [],
   "source": [
    "%%bash\n",
    "#!/usr/bin/env bash\n",
    "\n",
    "genome=/Users/manuel/Desktop/bowtie_strategy/barcode_combinations.fasta\n",
    "out=/Users/manuel/Desktop/bowtie_strategy/bc_index_files/bc_index\n",
    "\n",
    "bowtie2-build \\\n",
    "     --threads 4 \\\n",
    "     $genome \\\n",
    "     $out"
   ]
  },
  {
   "cell_type": "markdown",
   "metadata": {},
   "source": [
    "## Align bc_reads to bc_combinations"
   ]
  },
  {
   "cell_type": "code",
   "execution_count": 2,
   "metadata": {},
   "outputs": [
    {
     "name": "stderr",
     "output_type": "stream",
     "text": [
      "1000000 reads; of these:\n",
      "  1000000 (100.00%) were unpaired; of these:\n",
      "    688349 (68.83%) aligned 0 times\n",
      "    311651 (31.17%) aligned exactly 1 time\n",
      "    0 (0.00%) aligned >1 times\n",
      "31.17% overall alignment rate\n"
     ]
    }
   ],
   "source": [
    "%%bash\n",
    "#!/usr/bin/env bash\n",
    "\n",
    "bowtie2_index=\"/Users/manuel/Desktop/bowtie_strategy/bc_index_files/bc_index\"\n",
    "genomic_reads=\"/Users/manuel/Desktop/bowtie_strategy/extracted_cbcs.fastq\"\n",
    "output=\"/Users/manuel/Desktop/bowtie_strategy/aligned_bcs.sam\"\n",
    "\n",
    "bowtie2 \\\n",
    "     -p 4 \\\n",
    "     -x $bowtie2_index \\\n",
    "     -U $genomic_reads \\\n",
    "     -S $output\n"
   ]
  },
  {
   "cell_type": "markdown",
   "metadata": {},
   "source": [
    "## Select CBCs, UMIs and genes"
   ]
  },
  {
   "cell_type": "code",
   "execution_count": 3,
   "metadata": {},
   "outputs": [],
   "source": [
    "%%bash\n",
    "#!/usr/bin/env bash\n",
    "\n",
    "scripts=\"/Users/manuel/OneDrive/SPLiT-seq/SPLiT-seq_suite/DGE_matrix_generation/SPLiT-seq_DGE_matrix\"\n",
    "\n",
    "path_to_cbcs_sam=\"/Users/manuel/Desktop/bowtie_strategy/aligned_bcs.sam\"\n",
    "path_to_bc_comb=\"/Users/manuel/Desktop/bowtie_strategy/barcode_combinations.fasta\"\n",
    "path_to_umis_fastq=\"/Users/manuel/Desktop/bowtie_strategy/extracted_umis.fastq\"\n",
    "path_to_gen_fastq=\"/Users/manuel/Desktop/bowtie_strategy/SRR6750059_1_1mio.fastq\"\n",
    "out_dir=\"/Users/manuel/Desktop/bowtie_strategy\"\n",
    "out_filename_bcs=\"selected_barcodes\"\n",
    "out_filename_umis=\"selected_umis\"\n",
    "out_filename_gen=\"selected_gens\"\n",
    "\n",
    "python3 $scripts/select_bcs_umis_genes.py \\\n",
    "     --sam_in $path_to_cbcs_sam \\\n",
    "     --cbc_comb $path_to_bc_comb \\\n",
    "     --umi_in $path_to_umis_fastq \\\n",
    "     --gen_reads $path_to_gen_fastq \\\n",
    "     --out_dir $out_dir \\\n",
    "     --cbc_out_name $out_filename_bcs \\\n",
    "     --umi_out_name $out_filename_umis \\\n",
    "     --gene_out_name $out_filename_gen"
   ]
  },
  {
   "cell_type": "markdown",
   "metadata": {},
   "source": [
    "## Align selected genomic reads to reference genome (on cluster)"
   ]
  },
  {
   "cell_type": "code",
   "execution_count": 4,
   "metadata": {
    "collapsed": true
   },
   "outputs": [
    {
     "name": "stderr",
     "output_type": "stream",
     "text": [
      "\n",
      "EXITING because of FATAL ERROR: could not create output file: /fast/AG_Ohler/manuel/splitseq/frozen_preserved_cells_nuclei_200_UBCs/star_aligned/star_alignedLog.out\n",
      "Check if the path /fast/AG_Ohler/manuel/splitseq/frozen_preserved_cells_nuclei_200_UBCs/star_aligned/star_aligned exists and you have permissions to write there\n",
      "\n",
      "Dec 12 09:30:23 ...... FATAL ERROR, exiting\n"
     ]
    },
    {
     "ename": "CalledProcessError",
     "evalue": "Command 'b'#!/usr/bin/env bash\\n\\n#$ -l h_rt=20:00:00 -l h_vmem=20G\\n#$ -o /fast/AG_Ohler/manuel/splitseq/frozen_preserved_cells_nuclei_200_UBCs/output_file.txt\\n#$ -V\\n#$ -e /fast/AG_Ohler/manuel/splitseq/frozen_preserved_cells_nuclei_200_UBCs/err_file.txt\\n#$ -pe smp 8\\n\\nHOME_Dir=\"/fast/AG_Ohler/manuel/splitseq\"\\nINPUT_fastq=$HOME_Dir/frozen_preserved_cells_nuclei_200_UBCs/selected_gens.fastq\\nANNOTATED_GENOME=$HOME_Dir/mus_musculus_metadata_mm10/annotated_genome\\n\\nSTAR \\\\\\n     --runThreadN 8 \\\\\\n     --genomeDir $ANNOTATED_GENOME \\\\\\n     --readFilesIn $INPUT_fastq \\\\\\n     --outFileNamePrefix $HOME_Dir/frozen_preserved_cells_nuclei_200_UBCs/star_aligned/star_aligned \\\\\\n     --outSAMunmapped Within \\\\\\n     --outFilterScoreMinOverLread 0.33 \\\\\\n     --outFilterMatchNminOverLread 0.33\\n'' returned non-zero exit status 102.",
     "output_type": "error",
     "traceback": [
      "\u001b[0;31m---------------------------------------------------------------------------\u001b[0m",
      "\u001b[0;31mCalledProcessError\u001b[0m                        Traceback (most recent call last)",
      "\u001b[0;32m<ipython-input-4-3f99cc98c5be>\u001b[0m in \u001b[0;36m<module>\u001b[0;34m\u001b[0m\n\u001b[0;32m----> 1\u001b[0;31m \u001b[0mget_ipython\u001b[0m\u001b[0;34m(\u001b[0m\u001b[0;34m)\u001b[0m\u001b[0;34m.\u001b[0m\u001b[0mrun_cell_magic\u001b[0m\u001b[0;34m(\u001b[0m\u001b[0;34m'bash'\u001b[0m\u001b[0;34m,\u001b[0m \u001b[0;34m''\u001b[0m\u001b[0;34m,\u001b[0m \u001b[0;34m'#!/usr/bin/env bash\\n\\n#$ -l h_rt=20:00:00 -l h_vmem=20G\\n#$ -o /fast/AG_Ohler/manuel/splitseq/frozen_preserved_cells_nuclei_200_UBCs/output_file.txt\\n#$ -V\\n#$ -e /fast/AG_Ohler/manuel/splitseq/frozen_preserved_cells_nuclei_200_UBCs/err_file.txt\\n#$ -pe smp 8\\n\\nHOME_Dir=\"/fast/AG_Ohler/manuel/splitseq\"\\nINPUT_fastq=$HOME_Dir/frozen_preserved_cells_nuclei_200_UBCs/selected_gens.fastq\\nANNOTATED_GENOME=$HOME_Dir/mus_musculus_metadata_mm10/annotated_genome\\n\\nSTAR \\\\\\n     --runThreadN 8 \\\\\\n     --genomeDir $ANNOTATED_GENOME \\\\\\n     --readFilesIn $INPUT_fastq \\\\\\n     --outFileNamePrefix $HOME_Dir/frozen_preserved_cells_nuclei_200_UBCs/star_aligned/star_aligned \\\\\\n     --outSAMunmapped Within \\\\\\n     --outFilterScoreMinOverLread 0.33 \\\\\\n     --outFilterMatchNminOverLread 0.33\\n'\u001b[0m\u001b[0;34m)\u001b[0m\u001b[0;34m\u001b[0m\u001b[0;34m\u001b[0m\u001b[0m\n\u001b[0m",
      "\u001b[0;32m~/anaconda3/lib/python3.7/site-packages/IPython/core/interactiveshell.py\u001b[0m in \u001b[0;36mrun_cell_magic\u001b[0;34m(self, magic_name, line, cell)\u001b[0m\n\u001b[1;32m   2357\u001b[0m             \u001b[0;32mwith\u001b[0m \u001b[0mself\u001b[0m\u001b[0;34m.\u001b[0m\u001b[0mbuiltin_trap\u001b[0m\u001b[0;34m:\u001b[0m\u001b[0;34m\u001b[0m\u001b[0;34m\u001b[0m\u001b[0m\n\u001b[1;32m   2358\u001b[0m                 \u001b[0margs\u001b[0m \u001b[0;34m=\u001b[0m \u001b[0;34m(\u001b[0m\u001b[0mmagic_arg_s\u001b[0m\u001b[0;34m,\u001b[0m \u001b[0mcell\u001b[0m\u001b[0;34m)\u001b[0m\u001b[0;34m\u001b[0m\u001b[0;34m\u001b[0m\u001b[0m\n\u001b[0;32m-> 2359\u001b[0;31m                 \u001b[0mresult\u001b[0m \u001b[0;34m=\u001b[0m \u001b[0mfn\u001b[0m\u001b[0;34m(\u001b[0m\u001b[0;34m*\u001b[0m\u001b[0margs\u001b[0m\u001b[0;34m,\u001b[0m \u001b[0;34m**\u001b[0m\u001b[0mkwargs\u001b[0m\u001b[0;34m)\u001b[0m\u001b[0;34m\u001b[0m\u001b[0;34m\u001b[0m\u001b[0m\n\u001b[0m\u001b[1;32m   2360\u001b[0m             \u001b[0;32mreturn\u001b[0m \u001b[0mresult\u001b[0m\u001b[0;34m\u001b[0m\u001b[0;34m\u001b[0m\u001b[0m\n\u001b[1;32m   2361\u001b[0m \u001b[0;34m\u001b[0m\u001b[0m\n",
      "\u001b[0;32m~/anaconda3/lib/python3.7/site-packages/IPython/core/magics/script.py\u001b[0m in \u001b[0;36mnamed_script_magic\u001b[0;34m(line, cell)\u001b[0m\n\u001b[1;32m    140\u001b[0m             \u001b[0;32melse\u001b[0m\u001b[0;34m:\u001b[0m\u001b[0;34m\u001b[0m\u001b[0;34m\u001b[0m\u001b[0m\n\u001b[1;32m    141\u001b[0m                 \u001b[0mline\u001b[0m \u001b[0;34m=\u001b[0m \u001b[0mscript\u001b[0m\u001b[0;34m\u001b[0m\u001b[0;34m\u001b[0m\u001b[0m\n\u001b[0;32m--> 142\u001b[0;31m             \u001b[0;32mreturn\u001b[0m \u001b[0mself\u001b[0m\u001b[0;34m.\u001b[0m\u001b[0mshebang\u001b[0m\u001b[0;34m(\u001b[0m\u001b[0mline\u001b[0m\u001b[0;34m,\u001b[0m \u001b[0mcell\u001b[0m\u001b[0;34m)\u001b[0m\u001b[0;34m\u001b[0m\u001b[0;34m\u001b[0m\u001b[0m\n\u001b[0m\u001b[1;32m    143\u001b[0m \u001b[0;34m\u001b[0m\u001b[0m\n\u001b[1;32m    144\u001b[0m         \u001b[0;31m# write a basic docstring:\u001b[0m\u001b[0;34m\u001b[0m\u001b[0;34m\u001b[0m\u001b[0;34m\u001b[0m\u001b[0m\n",
      "\u001b[0;32m</Users/manuel/anaconda3/lib/python3.7/site-packages/decorator.py:decorator-gen-110>\u001b[0m in \u001b[0;36mshebang\u001b[0;34m(self, line, cell)\u001b[0m\n",
      "\u001b[0;32m~/anaconda3/lib/python3.7/site-packages/IPython/core/magic.py\u001b[0m in \u001b[0;36m<lambda>\u001b[0;34m(f, *a, **k)\u001b[0m\n\u001b[1;32m    185\u001b[0m     \u001b[0;31m# but it's overkill for just that one bit of state.\u001b[0m\u001b[0;34m\u001b[0m\u001b[0;34m\u001b[0m\u001b[0;34m\u001b[0m\u001b[0m\n\u001b[1;32m    186\u001b[0m     \u001b[0;32mdef\u001b[0m \u001b[0mmagic_deco\u001b[0m\u001b[0;34m(\u001b[0m\u001b[0marg\u001b[0m\u001b[0;34m)\u001b[0m\u001b[0;34m:\u001b[0m\u001b[0;34m\u001b[0m\u001b[0;34m\u001b[0m\u001b[0m\n\u001b[0;32m--> 187\u001b[0;31m         \u001b[0mcall\u001b[0m \u001b[0;34m=\u001b[0m \u001b[0;32mlambda\u001b[0m \u001b[0mf\u001b[0m\u001b[0;34m,\u001b[0m \u001b[0;34m*\u001b[0m\u001b[0ma\u001b[0m\u001b[0;34m,\u001b[0m \u001b[0;34m**\u001b[0m\u001b[0mk\u001b[0m\u001b[0;34m:\u001b[0m \u001b[0mf\u001b[0m\u001b[0;34m(\u001b[0m\u001b[0;34m*\u001b[0m\u001b[0ma\u001b[0m\u001b[0;34m,\u001b[0m \u001b[0;34m**\u001b[0m\u001b[0mk\u001b[0m\u001b[0;34m)\u001b[0m\u001b[0;34m\u001b[0m\u001b[0;34m\u001b[0m\u001b[0m\n\u001b[0m\u001b[1;32m    188\u001b[0m \u001b[0;34m\u001b[0m\u001b[0m\n\u001b[1;32m    189\u001b[0m         \u001b[0;32mif\u001b[0m \u001b[0mcallable\u001b[0m\u001b[0;34m(\u001b[0m\u001b[0marg\u001b[0m\u001b[0;34m)\u001b[0m\u001b[0;34m:\u001b[0m\u001b[0;34m\u001b[0m\u001b[0;34m\u001b[0m\u001b[0m\n",
      "\u001b[0;32m~/anaconda3/lib/python3.7/site-packages/IPython/core/magics/script.py\u001b[0m in \u001b[0;36mshebang\u001b[0;34m(self, line, cell)\u001b[0m\n\u001b[1;32m    243\u001b[0m             \u001b[0msys\u001b[0m\u001b[0;34m.\u001b[0m\u001b[0mstderr\u001b[0m\u001b[0;34m.\u001b[0m\u001b[0mflush\u001b[0m\u001b[0;34m(\u001b[0m\u001b[0;34m)\u001b[0m\u001b[0;34m\u001b[0m\u001b[0;34m\u001b[0m\u001b[0m\n\u001b[1;32m    244\u001b[0m         \u001b[0;32mif\u001b[0m \u001b[0margs\u001b[0m\u001b[0;34m.\u001b[0m\u001b[0mraise_error\u001b[0m \u001b[0;32mand\u001b[0m \u001b[0mp\u001b[0m\u001b[0;34m.\u001b[0m\u001b[0mreturncode\u001b[0m\u001b[0;34m!=\u001b[0m\u001b[0;36m0\u001b[0m\u001b[0;34m:\u001b[0m\u001b[0;34m\u001b[0m\u001b[0;34m\u001b[0m\u001b[0m\n\u001b[0;32m--> 245\u001b[0;31m             \u001b[0;32mraise\u001b[0m \u001b[0mCalledProcessError\u001b[0m\u001b[0;34m(\u001b[0m\u001b[0mp\u001b[0m\u001b[0;34m.\u001b[0m\u001b[0mreturncode\u001b[0m\u001b[0;34m,\u001b[0m \u001b[0mcell\u001b[0m\u001b[0;34m,\u001b[0m \u001b[0moutput\u001b[0m\u001b[0;34m=\u001b[0m\u001b[0mout\u001b[0m\u001b[0;34m,\u001b[0m \u001b[0mstderr\u001b[0m\u001b[0;34m=\u001b[0m\u001b[0merr\u001b[0m\u001b[0;34m)\u001b[0m\u001b[0;34m\u001b[0m\u001b[0;34m\u001b[0m\u001b[0m\n\u001b[0m\u001b[1;32m    246\u001b[0m \u001b[0;34m\u001b[0m\u001b[0m\n\u001b[1;32m    247\u001b[0m     \u001b[0;32mdef\u001b[0m \u001b[0m_run_script\u001b[0m\u001b[0;34m(\u001b[0m\u001b[0mself\u001b[0m\u001b[0;34m,\u001b[0m \u001b[0mp\u001b[0m\u001b[0;34m,\u001b[0m \u001b[0mcell\u001b[0m\u001b[0;34m,\u001b[0m \u001b[0mto_close\u001b[0m\u001b[0;34m)\u001b[0m\u001b[0;34m:\u001b[0m\u001b[0;34m\u001b[0m\u001b[0;34m\u001b[0m\u001b[0m\n",
      "\u001b[0;31mCalledProcessError\u001b[0m: Command 'b'#!/usr/bin/env bash\\n\\n#$ -l h_rt=20:00:00 -l h_vmem=20G\\n#$ -o /fast/AG_Ohler/manuel/splitseq/frozen_preserved_cells_nuclei_200_UBCs/output_file.txt\\n#$ -V\\n#$ -e /fast/AG_Ohler/manuel/splitseq/frozen_preserved_cells_nuclei_200_UBCs/err_file.txt\\n#$ -pe smp 8\\n\\nHOME_Dir=\"/fast/AG_Ohler/manuel/splitseq\"\\nINPUT_fastq=$HOME_Dir/frozen_preserved_cells_nuclei_200_UBCs/selected_gens.fastq\\nANNOTATED_GENOME=$HOME_Dir/mus_musculus_metadata_mm10/annotated_genome\\n\\nSTAR \\\\\\n     --runThreadN 8 \\\\\\n     --genomeDir $ANNOTATED_GENOME \\\\\\n     --readFilesIn $INPUT_fastq \\\\\\n     --outFileNamePrefix $HOME_Dir/frozen_preserved_cells_nuclei_200_UBCs/star_aligned/star_aligned \\\\\\n     --outSAMunmapped Within \\\\\\n     --outFilterScoreMinOverLread 0.33 \\\\\\n     --outFilterMatchNminOverLread 0.33\\n'' returned non-zero exit status 102."
     ]
    }
   ],
   "source": [
    "%%bash\n",
    "#!/usr/bin/env bash\n",
    "\n",
    "#$ -l h_rt=20:00:00 -l h_vmem=20G\n",
    "#$ -o /fast/AG_Ohler/manuel/splitseq/frozen_preserved_cells_nuclei_200_UBCs/output_file.txt\n",
    "#$ -V\n",
    "#$ -e /fast/AG_Ohler/manuel/splitseq/frozen_preserved_cells_nuclei_200_UBCs/err_file.txt\n",
    "#$ -pe smp 8\n",
    "\n",
    "HOME_Dir=\"/fast/AG_Ohler/manuel/splitseq\"\n",
    "INPUT_fastq=$HOME_Dir/frozen_preserved_cells_nuclei_200_UBCs/selected_gens.fastq\n",
    "ANNOTATED_GENOME=$HOME_Dir/mus_musculus_metadata_mm10/annotated_genome\n",
    "\n",
    "STAR \\\n",
    "     --runThreadN 8 \\\n",
    "     --genomeDir $ANNOTATED_GENOME \\\n",
    "     --readFilesIn $INPUT_fastq \\\n",
    "     --outFileNamePrefix $HOME_Dir/frozen_preserved_cells_nuclei_200_UBCs/star_aligned/star_aligned \\\n",
    "     --outSAMunmapped Within \\\n",
    "     --outFilterScoreMinOverLread 0.33 \\\n",
    "     --outFilterMatchNminOverLread 0.33"
   ]
  },
  {
   "cell_type": "markdown",
   "metadata": {},
   "source": [
    "## Add gene name to aligned genomic reads"
   ]
  },
  {
   "cell_type": "code",
   "execution_count": 5,
   "metadata": {
    "collapsed": true
   },
   "outputs": [
    {
     "name": "stderr",
     "output_type": "stream",
     "text": [
      "INFO\t2019-12-12 09:30:56\tTagReadWithGeneFunction\t\n",
      "\n",
      "********** NOTE: Picard's command line syntax is changing.\n",
      "**********\n",
      "********** For more information, please see:\n",
      "********** https://github.com/broadinstitute/picard/wiki/Command-Line-Syntax-Transition-For-Users-(Pre-Transition)\n",
      "**********\n",
      "********** The command line looks like this in the new syntax:\n",
      "**********\n",
      "**********    TagReadWithGeneFunction -I /Users/manuel/Desktop/bowtie_strategy/star_aligned.sam -O /Users/manuel/Desktop/bowtie_strategy/genfun_tagged.sam -ANNOTATIONS_FILE /Users/manuel/OneDrive/SPLiT-seq/SPLiT-seq_suite/DGE_matrix_generation/sample_data/mm10_genome/genome_annotation/mm10.refFlat\n",
      "**********\n",
      "\n",
      "\n",
      "09:30:57.440 INFO  NativeLibraryLoader - Loading libgkl_compression.dylib from jar:file:/Users/manuel/OneDrive/SPLiT-seq/SPLiT-seq_suite/DGE_matrix_generation/SPLiT-seq_DGE_matrix/sample_bash_scripts/drop_seq_tools/jar/lib/picard-2.18.14.jar!/com/intel/gkl/native/libgkl_compression.dylib\n",
      "[Thu Dec 12 09:30:57 CET 2019] TagReadWithGeneFunction INPUT=/Users/manuel/Desktop/bowtie_strategy/star_aligned.sam OUTPUT=/Users/manuel/Desktop/bowtie_strategy/genfun_tagged.sam ANNOTATIONS_FILE=/Users/manuel/OneDrive/SPLiT-seq/SPLiT-seq_suite/DGE_matrix_generation/sample_data/mm10_genome/genome_annotation/mm10.refFlat    GENE_NAME_TAG=gn GENE_STRAND_TAG=gs GENE_FUNCTION_TAG=gf READ_FUNCTION_TAG=XF USE_STRAND_INFO=true VERBOSITY=INFO QUIET=false VALIDATION_STRINGENCY=STRICT COMPRESSION_LEVEL=5 MAX_RECORDS_IN_RAM=500000 CREATE_INDEX=false CREATE_MD5_FILE=false GA4GH_CLIENT_SECRETS=client_secrets.json USE_JDK_DEFLATER=false USE_JDK_INFLATER=false\n",
      "[Thu Dec 12 09:30:57 CET 2019] Executing as manuel@Manuels-MBP.mdc-berlin.net on Mac OS X 10.15.1 x86_64; Java HotSpot(TM) 64-Bit Server VM 10.0.2+13; Deflater: Intel; Inflater: Intel; Provider GCS is not available; Picard version: 2.3.0(34e6572_1555443285)\n",
      "[Thu Dec 12 09:31:02 CET 2019] org.broadinstitute.dropseqrna.metrics.TagReadWithGeneFunction done. Elapsed time: 0.08 minutes.\n",
      "Runtime.totalMemory()=856162304\n"
     ]
    }
   ],
   "source": [
    "%%bash\n",
    "#!/usr/bin/env bash\n",
    "\n",
    "dropseq_tools=\"/Users/manuel/OneDrive/SPLiT-seq/SPLiT-seq_suite/DGE_matrix_generation/SPLiT-seq_DGE_matrix/sample_bash_scripts/drop_seq_tools\"\n",
    "aligned=\"/Users/manuel/Desktop/bowtie_strategy/star_aligned.sam\"\n",
    "out=\"/Users/manuel/Desktop/bowtie_strategy/genfun_tagged.sam\"\n",
    "META_DATA=\"/Users/manuel/OneDrive/SPLiT-seq/SPLiT-seq_suite/DGE_matrix_generation/sample_data/mm10_genome/genome_annotation/mm10.refFlat\"\n",
    "\n",
    "$dropseq_tools/TagReadWithGeneFunction \\\n",
    "     I=$aligned \\\n",
    "     O=$out \\\n",
    "     ANNOTATIONS_FILE=$META_DATA\n"
   ]
  },
  {
   "cell_type": "markdown",
   "metadata": {},
   "source": [
    "## Extract gene names of aligned genomic reads"
   ]
  },
  {
   "cell_type": "code",
   "execution_count": 6,
   "metadata": {},
   "outputs": [
    {
     "name": "stdout",
     "output_type": "stream",
     "text": [
      "accepted reads: 90880\n",
      "total reads: 273289\n"
     ]
    }
   ],
   "source": [
    "%%bash\n",
    "#!/usr/bin/env bash\n",
    "\n",
    "scripts=\"/Users/manuel/OneDrive/SPLiT-seq/SPLiT-seq_suite/DGE_matrix_generation/SPLiT-seq_DGE_matrix\"\n",
    "\n",
    "sam_file=\"/Users/manuel/Desktop/bowtie_strategy/genfun_tagged.sam\"\n",
    "out=\"/Users/manuel/Desktop/bowtie_strategy\"\n",
    "name=\"sorted_gene_names\"\n",
    "\n",
    "python3 $scripts/extract_gene_name.py \\\n",
    "    --sam_in $sam_file \\\n",
    "    --out_dir $out \\\n",
    "    --file_name $name \\\n",
    "    --accepted_gf \"CODING,UTR,INTERGENIC,INTRONIC\"\n"
   ]
  },
  {
   "cell_type": "markdown",
   "metadata": {},
   "source": [
    "## Cluster selected CBC reads (Starcode)"
   ]
  },
  {
   "cell_type": "code",
   "execution_count": 7,
   "metadata": {
    "collapsed": true
   },
   "outputs": [
    {
     "name": "stderr",
     "output_type": "stream",
     "text": [
      "warning: setting cluster-ratio to 1.0 may result in arbitrary cluster breaks.\n",
      "running starcode with 4 threads\n",
      "reading input files\n",
      "raw format detected\n",
      "sorting\n",
      "progress: 0.00% \r",
      "progress: 0.00% \r",
      "progress: 0.00% \r",
      "progress: 0.00% \r",
      "progress: 1.10% \r",
      "progress: 2.20% \r",
      "progress: 3.30% \r",
      "progress: 4.40% \r",
      "progress: 5.49% \r",
      "progress: 6.59% \r",
      "progress: 7.69% \r",
      "progress: 8.79% \r",
      "progress: 9.89% \r",
      "progress: 10.99% \r",
      "progress: 12.09% \r",
      "progress: 13.19% \r",
      "progress: 14.29% \r",
      "progress: 15.38% \r",
      "progress: 16.48% \r",
      "progress: 18.68% \r",
      "progress: 18.68% \r",
      "progress: 19.78% \r",
      "progress: 20.88% \r",
      "progress: 21.98% \r",
      "progress: 23.08% \r",
      "progress: 24.18% \r",
      "progress: 25.27% \r",
      "progress: 26.37% \r",
      "progress: 27.47% \r",
      "progress: 28.57% \r",
      "progress: 29.67% \r",
      "progress: 31.87% \r",
      "progress: 31.87% \r",
      "progress: 32.97% \r",
      "progress: 34.07% \r",
      "progress: 36.26% \r",
      "progress: 36.26% \r",
      "progress: 37.36% \r",
      "progress: 38.46% \r",
      "progress: 39.56% \r",
      "progress: 40.66% \r",
      "progress: 41.76% \r",
      "progress: 42.86% \r",
      "progress: 43.96% \r",
      "progress: 45.05% \r",
      "progress: 46.15% \r",
      "progress: 47.25% \r",
      "progress: 48.35% \r",
      "progress: 49.45% \r",
      "progress: 50.55% \r",
      "progress: 51.65% \r",
      "progress: 52.75% \r",
      "progress: 53.85% \r",
      "progress: 54.95% \r",
      "progress: 56.04% \r",
      "progress: 57.14% \r",
      "progress: 58.24% \r",
      "progress: 59.34% \r",
      "progress: 61.54% \r",
      "progress: 61.54% \r",
      "progress: 62.64% \r",
      "progress: 63.74% \r",
      "progress: 64.84% \r",
      "progress: 65.93% \r",
      "progress: 67.03% \r",
      "progress: 68.13% \r",
      "progress: 69.23% \r",
      "progress: 70.33% \r",
      "progress: 71.43% \r",
      "progress: 72.53% \r",
      "progress: 73.63% \r",
      "progress: 74.73% \r",
      "progress: 75.82% \r",
      "progress: 76.92% \r",
      "progress: 78.02% \r",
      "progress: 79.12% \r",
      "progress: 80.22% \r",
      "progress: 81.32% \r",
      "progress: 83.52% \r",
      "progress: 83.52% \r",
      "progress: 84.62% \r",
      "progress: 85.71% \r",
      "progress: 86.81% \r",
      "progress: 87.91% \r",
      "progress: 89.01% \r",
      "progress: 90.11% \r",
      "progress: 91.21% \r",
      "progress: 92.31% \r",
      "progress: 93.41% \r",
      "progress: 94.51% \r",
      "progress: 95.60% \r",
      "progress: 100.00%\n",
      "message passing clustering\n"
     ]
    }
   ],
   "source": [
    "%%bash\n",
    "#!/usr/bin/env bash\n",
    "\n",
    "inp=\"/Users/manuel/Desktop/bowtie_strategy/selected_barcodes.txt\"\n",
    "out=\"/Users/manuel/Desktop/bowtie_strategy/clustered_barcodes.txt\"\n",
    "\n",
    "starcode \\\n",
    "     --threads 4 \\\n",
    "     --input $inp \\\n",
    "     --output $out \\\n",
    "     -d 1 \\\n",
    "     -r 1 \\\n",
    "     --seq-id"
   ]
  },
  {
   "cell_type": "markdown",
   "metadata": {},
   "source": [
    "## Cluster selected UMIs (Starcode)"
   ]
  },
  {
   "cell_type": "code",
   "execution_count": 8,
   "metadata": {
    "collapsed": true
   },
   "outputs": [
    {
     "name": "stderr",
     "output_type": "stream",
     "text": [
      "warning: setting cluster-ratio to 1.0 may result in arbitrary cluster breaks.\n",
      "running starcode with 4 threads\n",
      "reading input files\n",
      "raw format detected\n",
      "sorting\n",
      "progress: 0.00% \r",
      "progress: 0.00% \r",
      "progress: 0.00% \r",
      "progress: 0.00% \r",
      "progress: 1.10% \r",
      "progress: 2.20% \r",
      "progress: 3.30% \r",
      "progress: 4.40% \r",
      "progress: 5.49% \r",
      "progress: 6.59% \r",
      "progress: 7.69% \r",
      "progress: 8.79% \r",
      "progress: 9.89% \r",
      "progress: 10.99% \r",
      "progress: 12.09% \r",
      "progress: 13.19% \r",
      "progress: 14.29% \r",
      "progress: 15.38% \r",
      "progress: 16.48% \r",
      "progress: 17.58% \r",
      "progress: 18.68% \r",
      "progress: 19.78% \r",
      "progress: 20.88% \r",
      "progress: 21.98% \r",
      "progress: 23.08% \r",
      "progress: 24.18% \r",
      "progress: 25.27% \r",
      "progress: 26.37% \r",
      "progress: 27.47% \r",
      "progress: 28.57% \r",
      "progress: 29.67% \r",
      "progress: 30.77% \r",
      "progress: 31.87% \r",
      "progress: 32.97% \r",
      "progress: 34.07% \r",
      "progress: 35.16% \r",
      "progress: 36.26% \r",
      "progress: 37.36% \r",
      "progress: 38.46% \r",
      "progress: 39.56% \r",
      "progress: 40.66% \r",
      "progress: 41.76% \r",
      "progress: 42.86% \r",
      "progress: 43.96% \r",
      "progress: 45.05% \r",
      "progress: 46.15% \r",
      "progress: 47.25% \r",
      "progress: 48.35% \r",
      "progress: 49.45% \r",
      "progress: 50.55% \r",
      "progress: 51.65% \r",
      "progress: 52.75% \r",
      "progress: 53.85% \r",
      "progress: 54.95% \r",
      "progress: 56.04% \r",
      "progress: 57.14% \r",
      "progress: 58.24% \r",
      "progress: 59.34% \r",
      "progress: 60.44% \r",
      "progress: 61.54% \r",
      "progress: 62.64% \r",
      "progress: 63.74% \r",
      "progress: 64.84% \r",
      "progress: 65.93% \r",
      "progress: 67.03% \r",
      "progress: 68.13% \r",
      "progress: 69.23% \r",
      "progress: 70.33% \r",
      "progress: 71.43% \r",
      "progress: 72.53% \r",
      "progress: 73.63% \r",
      "progress: 74.73% \r",
      "progress: 75.82% \r",
      "progress: 76.92% \r",
      "progress: 78.02% \r",
      "progress: 79.12% \r",
      "progress: 80.22% \r",
      "progress: 81.32% \r",
      "progress: 82.42% \r",
      "progress: 83.52% \r",
      "progress: 84.62% \r",
      "progress: 85.71% \r",
      "progress: 86.81% \r",
      "progress: 87.91% \r",
      "progress: 89.01% \r",
      "progress: 90.11% \r",
      "progress: 91.21% \r",
      "progress: 92.31% \r",
      "progress: 93.41% \r",
      "progress: 94.51% \r",
      "progress: 96.70% \r",
      "progress: 100.00%\n",
      "message passing clustering\n"
     ]
    }
   ],
   "source": [
    "%%bash\n",
    "#!/usr/bin/env bash\n",
    "\n",
    "inp=\"/Users/manuel/Desktop/bowtie_strategy/selected_umis.txt\"\n",
    "out=\"/Users/manuel/Desktop/bowtie_strategy/clustered_UMIs.txt\"\n",
    "\n",
    "starcode \\\n",
    "     --threads 4 \\\n",
    "     --input $inp \\\n",
    "     --output $out \\\n",
    "     -d 1 \\\n",
    "     -r 1 \\\n",
    "     --seq-id"
   ]
  },
  {
   "cell_type": "markdown",
   "metadata": {},
   "source": [
    "## Calculate Clusters (demultiplexing)"
   ]
  },
  {
   "cell_type": "code",
   "execution_count": 9,
   "metadata": {},
   "outputs": [],
   "source": [
    "%%bash\n",
    "#!/usr/bin/env bash\n",
    "\n",
    "scripts=\"/Users/manuel/OneDrive/SPLiT-seq/SPLiT-seq_suite/DGE_matrix_generation/SPLiT-seq_DGE_matrix\"\n",
    "\n",
    "barcode_clusters=\"/Users/manuel/Desktop/bowtie_strategy/clustered_barcodes.txt\"\n",
    "umi_clusters=\"/Users/manuel/Desktop/bowtie_strategy/clustered_UMIs.txt\"\n",
    "genes=\"/Users/manuel/Desktop/bowtie_strategy/sorted_gene_names.txt\"\n",
    "out=\"/Users/manuel/Desktop/bowtie_strategy\"\n",
    "name=\"cluster_out\"\n",
    "\n",
    "python3 $scripts/calculate_clusters.py \\\n",
    "    --cbc_clusters $barcode_clusters \\\n",
    "    --umi_clusters $umi_clusters \\\n",
    "    --gene_names $genes \\\n",
    "    --out_dir $out \\\n",
    "    --file_name $name"
   ]
  },
  {
   "cell_type": "markdown",
   "metadata": {},
   "source": [
    "## Calculate DGE matrix (UMI collapsing)"
   ]
  },
  {
   "cell_type": "code",
   "execution_count": 10,
   "metadata": {
    "collapsed": true
   },
   "outputs": [
    {
     "name": "stdout",
     "output_type": "stream",
     "text": [
      "number of clusters: 6114\n",
      "empty clusters formed\n",
      "clusters populated\n",
      "umis collapsed\n",
      "gene list obtained\n",
      "barcode list obtained\n",
      "matrix calculated\n",
      "DGE matrix written to file\n"
     ]
    }
   ],
   "source": [
    "%%bash\n",
    "#!/usr/bin/env bash\n",
    "\n",
    "scripts=\"/Users/manuel/OneDrive/SPLiT-seq/SPLiT-seq_suite/DGE_matrix_generation/SPLiT-seq_DGE_matrix\"\n",
    "\n",
    "clusters=\"/Users/manuel/Desktop/bowtie_strategy/cluster_out.txt\"\n",
    "out=\"/Users/manuel/Desktop/bowtie_strategy\"\n",
    "\n",
    "name=\"expression\"\n",
    "\n",
    "python3 $scripts/calculate_DGE_matrix.py \\\n",
    "    --clusters $clusters \\\n",
    "    --out_dir $out \\\n",
    "    --file_name $name"
   ]
  },
  {
   "cell_type": "markdown",
   "metadata": {},
   "source": [
    "## A look at the generated DGE matrix"
   ]
  },
  {
   "cell_type": "code",
   "execution_count": 1,
   "metadata": {
    "scrolled": true
   },
   "outputs": [
    {
     "name": "stderr",
     "output_type": "stream",
     "text": [
      "Loading required package: SummarizedExperiment\n",
      "Loading required package: GenomicRanges\n",
      "Loading required package: stats4\n",
      "Loading required package: BiocGenerics\n",
      "Loading required package: parallel\n",
      "\n",
      "Attaching package: ‘BiocGenerics’\n",
      "\n",
      "The following objects are masked from ‘package:parallel’:\n",
      "\n",
      "    clusterApply, clusterApplyLB, clusterCall, clusterEvalQ,\n",
      "    clusterExport, clusterMap, parApply, parCapply, parLapply,\n",
      "    parLapplyLB, parRapply, parSapply, parSapplyLB\n",
      "\n",
      "The following objects are masked from ‘package:stats’:\n",
      "\n",
      "    IQR, mad, sd, var, xtabs\n",
      "\n",
      "The following objects are masked from ‘package:base’:\n",
      "\n",
      "    anyDuplicated, append, as.data.frame, basename, cbind, colnames,\n",
      "    dirname, do.call, duplicated, eval, evalq, Filter, Find, get, grep,\n",
      "    grepl, intersect, is.unsorted, lapply, Map, mapply, match, mget,\n",
      "    order, paste, pmax, pmax.int, pmin, pmin.int, Position, rank,\n",
      "    rbind, Reduce, rownames, sapply, setdiff, sort, table, tapply,\n",
      "    union, unique, unsplit, which, which.max, which.min\n",
      "\n",
      "Loading required package: S4Vectors\n",
      "\n",
      "Attaching package: ‘S4Vectors’\n",
      "\n",
      "The following object is masked from ‘package:base’:\n",
      "\n",
      "    expand.grid\n",
      "\n",
      "Loading required package: IRanges\n",
      "Loading required package: GenomeInfoDb\n",
      "Loading required package: Biobase\n",
      "Welcome to Bioconductor\n",
      "\n",
      "    Vignettes contain introductory material; view with\n",
      "    'browseVignettes()'. To cite Bioconductor, see\n",
      "    'citation(\"Biobase\")', and for packages 'citation(\"pkgname\")'.\n",
      "\n",
      "Loading required package: DelayedArray\n",
      "Loading required package: matrixStats\n",
      "\n",
      "Attaching package: ‘matrixStats’\n",
      "\n",
      "The following objects are masked from ‘package:Biobase’:\n",
      "\n",
      "    anyMissing, rowMedians\n",
      "\n",
      "Loading required package: BiocParallel\n",
      "\n",
      "Attaching package: ‘DelayedArray’\n",
      "\n",
      "The following objects are masked from ‘package:matrixStats’:\n",
      "\n",
      "    colMaxs, colMins, colRanges, rowMaxs, rowMins, rowRanges\n",
      "\n",
      "The following objects are masked from ‘package:base’:\n",
      "\n",
      "    aperm, apply, rowsum\n",
      "\n"
     ]
    }
   ],
   "source": [
    "library(SingleCellExperiment)"
   ]
  },
  {
   "cell_type": "code",
   "execution_count": 2,
   "metadata": {},
   "outputs": [],
   "source": [
    "path_to_matrix = \"/Users/manuel/Desktop/bowtie_strategy/expression.txt\"\n",
    "matrix = read.table(path_to_matrix, header=T, sep=\"\\t\")\n",
    "rownames(matrix) = matrix[,1]\n",
    "matrix = matrix[,-1]\n",
    "matrix = data.frame(matrix)\n",
    "sce_my <- SingleCellExperiment(assays = list(counts = matrix))"
   ]
  },
  {
   "cell_type": "code",
   "execution_count": 3,
   "metadata": {},
   "outputs": [
    {
     "data": {
      "text/html": [
       "<table>\n",
       "<caption>A data.frame: 10 × 5</caption>\n",
       "<thead>\n",
       "\t<tr><th></th><th scope=col>ACTATGCAACAGCAGAACTATGCA</th><th scope=col>ACATTGGCAAGAGATCACAAGCTA</th><th scope=col>ACATTGGCAAGAGATCGTCTGTCA</th><th scope=col>CTCAATGAATTGGCTCAACGTGAT</th><th scope=col>GACTAGTAACGTATCAGAATCTGA</th></tr>\n",
       "\t<tr><th></th><th scope=col>&lt;int&gt;</th><th scope=col>&lt;int&gt;</th><th scope=col>&lt;int&gt;</th><th scope=col>&lt;int&gt;</th><th scope=col>&lt;int&gt;</th></tr>\n",
       "</thead>\n",
       "<tbody>\n",
       "\t<tr><th scope=row>Hspe1</th><td>  1</td><td>  0</td><td>  0</td><td>  1</td><td> 0</td></tr>\n",
       "\t<tr><th scope=row>Gm26924</th><td>244</td><td>216</td><td>135</td><td>111</td><td>81</td></tr>\n",
       "\t<tr><th scope=row>Csmd3</th><td>  2</td><td>  1</td><td>  0</td><td>  0</td><td> 0</td></tr>\n",
       "\t<tr><th scope=row>Hnrnpa1</th><td>  2</td><td>  0</td><td>  0</td><td>  1</td><td> 0</td></tr>\n",
       "\t<tr><th scope=row>Ttn</th><td>  2</td><td>  0</td><td>  0</td><td>  0</td><td> 0</td></tr>\n",
       "\t<tr><th scope=row>Mthfd2</th><td>  1</td><td>  0</td><td>  0</td><td>  0</td><td> 0</td></tr>\n",
       "\t<tr><th scope=row>mt-Rnr2</th><td> 27</td><td> 30</td><td> 21</td><td> 18</td><td>10</td></tr>\n",
       "\t<tr><th scope=row>mt-Rnr1</th><td> 38</td><td> 36</td><td> 19</td><td> 26</td><td>12</td></tr>\n",
       "\t<tr><th scope=row>Nox4</th><td>  1</td><td>  0</td><td>  0</td><td>  0</td><td> 1</td></tr>\n",
       "\t<tr><th scope=row>Tln1</th><td>  1</td><td>  1</td><td>  0</td><td>  0</td><td> 0</td></tr>\n",
       "</tbody>\n",
       "</table>\n"
      ],
      "text/latex": [
       "A data.frame: 10 × 5\n",
       "\\begin{tabular}{r|lllll}\n",
       "  & ACTATGCAACAGCAGAACTATGCA & ACATTGGCAAGAGATCACAAGCTA & ACATTGGCAAGAGATCGTCTGTCA & CTCAATGAATTGGCTCAACGTGAT & GACTAGTAACGTATCAGAATCTGA\\\\\n",
       "  & <int> & <int> & <int> & <int> & <int>\\\\\n",
       "\\hline\n",
       "\tHspe1 &   1 &   0 &   0 &   1 &  0\\\\\n",
       "\tGm26924 & 244 & 216 & 135 & 111 & 81\\\\\n",
       "\tCsmd3 &   2 &   1 &   0 &   0 &  0\\\\\n",
       "\tHnrnpa1 &   2 &   0 &   0 &   1 &  0\\\\\n",
       "\tTtn &   2 &   0 &   0 &   0 &  0\\\\\n",
       "\tMthfd2 &   1 &   0 &   0 &   0 &  0\\\\\n",
       "\tmt-Rnr2 &  27 &  30 &  21 &  18 & 10\\\\\n",
       "\tmt-Rnr1 &  38 &  36 &  19 &  26 & 12\\\\\n",
       "\tNox4 &   1 &   0 &   0 &   0 &  1\\\\\n",
       "\tTln1 &   1 &   1 &   0 &   0 &  0\\\\\n",
       "\\end{tabular}\n"
      ],
      "text/markdown": [
       "\n",
       "A data.frame: 10 × 5\n",
       "\n",
       "| <!--/--> | ACTATGCAACAGCAGAACTATGCA &lt;int&gt; | ACATTGGCAAGAGATCACAAGCTA &lt;int&gt; | ACATTGGCAAGAGATCGTCTGTCA &lt;int&gt; | CTCAATGAATTGGCTCAACGTGAT &lt;int&gt; | GACTAGTAACGTATCAGAATCTGA &lt;int&gt; |\n",
       "|---|---|---|---|---|---|\n",
       "| Hspe1 |   1 |   0 |   0 |   1 |  0 |\n",
       "| Gm26924 | 244 | 216 | 135 | 111 | 81 |\n",
       "| Csmd3 |   2 |   1 |   0 |   0 |  0 |\n",
       "| Hnrnpa1 |   2 |   0 |   0 |   1 |  0 |\n",
       "| Ttn |   2 |   0 |   0 |   0 |  0 |\n",
       "| Mthfd2 |   1 |   0 |   0 |   0 |  0 |\n",
       "| mt-Rnr2 |  27 |  30 |  21 |  18 | 10 |\n",
       "| mt-Rnr1 |  38 |  36 |  19 |  26 | 12 |\n",
       "| Nox4 |   1 |   0 |   0 |   0 |  1 |\n",
       "| Tln1 |   1 |   1 |   0 |   0 |  0 |\n",
       "\n"
      ],
      "text/plain": [
       "        ACTATGCAACAGCAGAACTATGCA ACATTGGCAAGAGATCACAAGCTA\n",
       "Hspe1     1                        0                     \n",
       "Gm26924 244                      216                     \n",
       "Csmd3     2                        1                     \n",
       "Hnrnpa1   2                        0                     \n",
       "Ttn       2                        0                     \n",
       "Mthfd2    1                        0                     \n",
       "mt-Rnr2  27                       30                     \n",
       "mt-Rnr1  38                       36                     \n",
       "Nox4      1                        0                     \n",
       "Tln1      1                        1                     \n",
       "        ACATTGGCAAGAGATCGTCTGTCA CTCAATGAATTGGCTCAACGTGAT\n",
       "Hspe1     0                        1                     \n",
       "Gm26924 135                      111                     \n",
       "Csmd3     0                        0                     \n",
       "Hnrnpa1   0                        1                     \n",
       "Ttn       0                        0                     \n",
       "Mthfd2    0                        0                     \n",
       "mt-Rnr2  21                       18                     \n",
       "mt-Rnr1  19                       26                     \n",
       "Nox4      0                        0                     \n",
       "Tln1      0                        0                     \n",
       "        GACTAGTAACGTATCAGAATCTGA\n",
       "Hspe1    0                      \n",
       "Gm26924 81                      \n",
       "Csmd3    0                      \n",
       "Hnrnpa1  0                      \n",
       "Ttn      0                      \n",
       "Mthfd2   0                      \n",
       "mt-Rnr2 10                      \n",
       "mt-Rnr1 12                      \n",
       "Nox4     1                      \n",
       "Tln1     0                      "
      ]
     },
     "metadata": {},
     "output_type": "display_data"
    }
   ],
   "source": [
    "assay(sce_my)[1:10, 1:5]"
   ]
  }
 ],
 "metadata": {
  "kernelspec": {
   "display_name": "R",
   "language": "R",
   "name": "ir"
  },
  "language_info": {
   "codemirror_mode": "r",
   "file_extension": ".r",
   "mimetype": "text/x-r-source",
   "name": "R",
   "pygments_lexer": "r",
   "version": "3.6.1"
  }
 },
 "nbformat": 4,
 "nbformat_minor": 2
}
